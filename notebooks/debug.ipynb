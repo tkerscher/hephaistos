{
 "cells": [
  {
   "cell_type": "markdown",
   "metadata": {},
   "source": [
    "# Debug\n",
    "\n",
    "If you have the [Vulkan Validation Layers](https://github.com/KhronosGroup/Vulkan-ValidationLayers)\n",
    "installed (part of the [Vulkan SDK](https://www.lunarg.com/vulkan-sdk/)), you can use\n",
    "some more sophisticated debugging tools, which are especially useful for debugging\n",
    "shader code.\n",
    "\n",
    "This notebook shows an short example on how to use it."
   ]
  },
  {
   "cell_type": "code",
   "execution_count": 1,
   "metadata": {},
   "outputs": [],
   "source": [
    "import hephaistos as hp\n",
    "\n",
    "if not hp.isVulkanAvailable():\n",
    "    raise RuntimeError(\"Vulkan not supported!\")\n",
    "if not hp.isDebugAvailable():\n",
    "    raise RuntimeError(\"Debugging not supported!\")\n",
    "# debugging must be configured before anything else!\n",
    "# (except querying for vulkan and debug support)\n",
    "\n",
    "# You can optionally pass a callback\n",
    "# We use it to only print the printf message\n",
    "def callback(msg):\n",
    "    if msg.idNumber == 1985515673:\n",
    "        print(msg.message)\n",
    "hp.configureDebug(enablePrint=True, callback=callback)"
   ]
  },
  {
   "cell_type": "markdown",
   "metadata": {},
   "source": [
    "With printing enabled, we can use `GL_EXT_debug_printf` in our shaders to send\n",
    "messages from the shader!"
   ]
  },
  {
   "cell_type": "code",
   "execution_count": 2,
   "metadata": {},
   "outputs": [
    {
     "name": "stdout",
     "output_type": "stream",
     "text": [
      "Validation Information: [ WARNING-DEBUG-PRINTF ] | MessageID = 0x76589099 | vkQueueSubmit():  Hello from thread 0! Check this number: 3.141000\n",
      "Validation Information: [ WARNING-DEBUG-PRINTF ] | MessageID = 0x76589099 | vkQueueSubmit():  Hello from thread 1! Check this number: 3.141000\n",
      "Validation Information: [ WARNING-DEBUG-PRINTF ] | MessageID = 0x76589099 | vkQueueSubmit():  Hello from thread 2! Check this number: 3.141000\n",
      "Validation Information: [ WARNING-DEBUG-PRINTF ] | MessageID = 0x76589099 | vkQueueSubmit():  Hello from thread 3! Check this number: 3.141000\n",
      "Validation Information: [ WARNING-DEBUG-PRINTF ] | MessageID = 0x76589099 | vkQueueSubmit():  Hello from thread 4! Check this number: 3.141000\n",
      "Validation Information: [ WARNING-DEBUG-PRINTF ] | MessageID = 0x76589099 | vkQueueSubmit():  Hello from thread 5! Check this number: 3.141000\n",
      "Validation Information: [ WARNING-DEBUG-PRINTF ] | MessageID = 0x76589099 | vkQueueSubmit():  Hello from thread 6! Check this number: 3.141000\n",
      "Validation Information: [ WARNING-DEBUG-PRINTF ] | MessageID = 0x76589099 | vkQueueSubmit():  Hello from thread 7! Check this number: 3.141000\n",
      "Validation Information: [ WARNING-DEBUG-PRINTF ] | MessageID = 0x76589099 | vkQueueSubmit():  Hello from thread 8! Check this number: 3.141000\n",
      "Validation Information: [ WARNING-DEBUG-PRINTF ] | MessageID = 0x76589099 | vkQueueSubmit():  Hello from thread 9! Check this number: 3.141000\n",
      "Validation Information: [ WARNING-DEBUG-PRINTF ] | MessageID = 0x76589099 | vkQueueSubmit():  Hello from thread 10! Check this number: 3.141000\n",
      "Validation Information: [ WARNING-DEBUG-PRINTF ] | MessageID = 0x76589099 | vkQueueSubmit():  Hello from thread 11! Check this number: 3.141000\n",
      "Validation Information: [ WARNING-DEBUG-PRINTF ] | MessageID = 0x76589099 | vkQueueSubmit():  Hello from thread 12! Check this number: 3.141000\n",
      "Validation Information: [ WARNING-DEBUG-PRINTF ] | MessageID = 0x76589099 | vkQueueSubmit():  Hello from thread 13! Check this number: 3.141000\n",
      "Validation Information: [ WARNING-DEBUG-PRINTF ] | MessageID = 0x76589099 | vkQueueSubmit():  Hello from thread 14! Check this number: 3.141000\n",
      "Validation Information: [ WARNING-DEBUG-PRINTF ] | MessageID = 0x76589099 | vkQueueSubmit():  Hello from thread 15! Check this number: 3.141000\n",
      "Validation Information: [ WARNING-DEBUG-PRINTF ] | MessageID = 0x76589099 | vkQueueSubmit():  Hello from thread 16! Check this number: 3.141000\n",
      "Validation Information: [ WARNING-DEBUG-PRINTF ] | MessageID = 0x76589099 | vkQueueSubmit():  Hello from thread 17! Check this number: 3.141000\n",
      "Validation Information: [ WARNING-DEBUG-PRINTF ] | MessageID = 0x76589099 | vkQueueSubmit():  Hello from thread 18! Check this number: 3.141000\n",
      "Validation Information: [ WARNING-DEBUG-PRINTF ] | MessageID = 0x76589099 | vkQueueSubmit():  Hello from thread 19! Check this number: 3.141000\n",
      "Validation Information: [ WARNING-DEBUG-PRINTF ] | MessageID = 0x76589099 | vkQueueSubmit():  Hello from thread 20! Check this number: 3.141000\n",
      "Validation Information: [ WARNING-DEBUG-PRINTF ] | MessageID = 0x76589099 | vkQueueSubmit():  Hello from thread 21! Check this number: 3.141000\n",
      "Validation Information: [ WARNING-DEBUG-PRINTF ] | MessageID = 0x76589099 | vkQueueSubmit():  Hello from thread 22! Check this number: 3.141000\n",
      "Validation Information: [ WARNING-DEBUG-PRINTF ] | MessageID = 0x76589099 | vkQueueSubmit():  Hello from thread 23! Check this number: 3.141000\n",
      "Validation Information: [ WARNING-DEBUG-PRINTF ] | MessageID = 0x76589099 | vkQueueSubmit():  Hello from thread 24! Check this number: 3.141000\n",
      "Validation Information: [ WARNING-DEBUG-PRINTF ] | MessageID = 0x76589099 | vkQueueSubmit():  Hello from thread 25! Check this number: 3.141000\n",
      "Validation Information: [ WARNING-DEBUG-PRINTF ] | MessageID = 0x76589099 | vkQueueSubmit():  Hello from thread 26! Check this number: 3.141000\n",
      "Validation Information: [ WARNING-DEBUG-PRINTF ] | MessageID = 0x76589099 | vkQueueSubmit():  Hello from thread 27! Check this number: 3.141000\n",
      "Validation Information: [ WARNING-DEBUG-PRINTF ] | MessageID = 0x76589099 | vkQueueSubmit():  Hello from thread 28! Check this number: 3.141000\n",
      "Validation Information: [ WARNING-DEBUG-PRINTF ] | MessageID = 0x76589099 | vkQueueSubmit():  Hello from thread 29! Check this number: 3.141000\n",
      "Validation Information: [ WARNING-DEBUG-PRINTF ] | MessageID = 0x76589099 | vkQueueSubmit():  Hello from thread 30! Check this number: 3.141000\n",
      "Validation Information: [ WARNING-DEBUG-PRINTF ] | MessageID = 0x76589099 | vkQueueSubmit():  Hello from thread 31! Check this number: 3.141000\n"
     ]
    }
   ],
   "source": [
    "shader_code = \"\"\"\n",
    "#extension GL_EXT_debug_printf : require\n",
    "\n",
    "layout(local_size_x = 32) in;\n",
    "\n",
    "void main() {\n",
    "    uint i = gl_GlobalInvocationID.x;\n",
    "    float f = 3.141;\n",
    "    debugPrintfEXT(\"Hello from thread %i! Check this number: %f\", i, f);\n",
    "}\n",
    "\"\"\"\n",
    "\n",
    "compiler = hp.Compiler()\n",
    "program = hp.Program(compiler.compile(shader_code))\n",
    "\n",
    "hp.execute(program.dispatch())"
   ]
  }
 ],
 "metadata": {
  "kernelspec": {
   "display_name": "Python 3",
   "language": "python",
   "name": "python3"
  },
  "language_info": {
   "codemirror_mode": {
    "name": "ipython",
    "version": 3
   },
   "file_extension": ".py",
   "mimetype": "text/x-python",
   "name": "python",
   "nbconvert_exporter": "python",
   "pygments_lexer": "ipython3",
   "version": "3.11.6"
  }
 },
 "nbformat": 4,
 "nbformat_minor": 2
}
