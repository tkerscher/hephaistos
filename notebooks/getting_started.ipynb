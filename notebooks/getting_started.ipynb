{
 "cells": [
  {
   "attachments": {},
   "cell_type": "markdown",
   "metadata": {},
   "source": [
    "# Getting Started\n",
    "\n",
    "This notebook shows how to work with `hephaistos`."
   ]
  },
  {
   "cell_type": "code",
   "execution_count": 1,
   "metadata": {},
   "outputs": [],
   "source": [
    "import hephaistos\n",
    "import numpy as np"
   ]
  },
  {
   "attachments": {},
   "cell_type": "markdown",
   "metadata": {},
   "source": [
    "We start by enumerating all available devices:"
   ]
  },
  {
   "cell_type": "code",
   "execution_count": 2,
   "metadata": {},
   "outputs": [
    {
     "name": "stdout",
     "output_type": "stream",
     "text": [
      "0: NVIDIA GeForce RTX 3060 Ti (discrete)\n"
     ]
    }
   ],
   "source": [
    "assert hephaistos.isVulkanAvailable(), \"Vulkan is not available on your system!\"\n",
    "\n",
    "for i, device in enumerate(hephaistos.enumerateDevices()):\n",
    "    print(f'{i}: {device.name}{\" (discrete)\" if device.isDiscrete else \"\"}')"
   ]
  },
  {
   "attachments": {},
   "cell_type": "markdown",
   "metadata": {},
   "source": [
    "## Copying stuff around\n",
    "\n",
    "Here we show how copying data from and to the gpu works, and how commands can be sequenced.\n",
    "Hephaistos has two major data types: `Buffer`s living on the CPU and `Tensor`s living on the GPU."
   ]
  },
  {
   "cell_type": "code",
   "execution_count": 3,
   "metadata": {},
   "outputs": [],
   "source": [
    "buffer1 = hephaistos.IntBuffer(10)\n",
    "np.copyto(buffer1.numpy(), np.arange(10))"
   ]
  },
  {
   "cell_type": "code",
   "execution_count": 4,
   "metadata": {},
   "outputs": [],
   "source": [
    "tensor = hephaistos.IntTensor(10)\n",
    "buffer2 = hephaistos.IntBuffer(10)"
   ]
  },
  {
   "cell_type": "code",
   "execution_count": 5,
   "metadata": {},
   "outputs": [
    {
     "data": {
      "text/plain": [
       "2"
      ]
     },
     "execution_count": 5,
     "metadata": {},
     "output_type": "execute_result"
    }
   ],
   "source": [
    "timeline = hephaistos.Timeline()\n",
    "copyTo = hephaistos.updateTensor(buffer1, tensor)\n",
    "copyFrom = hephaistos.retrieveTensor(tensor, buffer2)\n",
    "\n",
    "hephaistos.beginSequence(timeline).And(copyTo).Then(copyFrom).Submit()"
   ]
  },
  {
   "cell_type": "code",
   "execution_count": 6,
   "metadata": {},
   "outputs": [
    {
     "name": "stdout",
     "output_type": "stream",
     "text": [
      "Uploading Data...\n",
      "Fetching Data...\n",
      "Done\n"
     ]
    }
   ],
   "source": [
    "print(\"Uploading Data...\")\n",
    "timeline.wait(1)\n",
    "print(\"Fetching Data...\")\n",
    "timeline.wait(2)\n",
    "print(\"Done\")"
   ]
  },
  {
   "cell_type": "code",
   "execution_count": 7,
   "metadata": {},
   "outputs": [
    {
     "data": {
      "text/plain": [
       "array([0, 1, 2, 3, 4, 5, 6, 7, 8, 9], dtype=int32)"
      ]
     },
     "execution_count": 7,
     "metadata": {},
     "output_type": "execute_result"
    }
   ],
   "source": [
    "buffer2.numpy()"
   ]
  }
 ],
 "metadata": {
  "kernelspec": {
   "display_name": "Python 3",
   "language": "python",
   "name": "python3"
  },
  "language_info": {
   "codemirror_mode": {
    "name": "ipython",
    "version": 3
   },
   "file_extension": ".py",
   "mimetype": "text/x-python",
   "name": "python",
   "nbconvert_exporter": "python",
   "pygments_lexer": "ipython3",
   "version": "3.9.10"
  },
  "orig_nbformat": 4
 },
 "nbformat": 4,
 "nbformat_minor": 2
}
