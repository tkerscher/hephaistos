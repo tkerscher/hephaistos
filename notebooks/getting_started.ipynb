{
 "cells": [
  {
   "attachments": {},
   "cell_type": "markdown",
   "metadata": {},
   "source": [
    "# Getting Started\n",
    "\n",
    "This notebook shows how to work with `hephaistos`."
   ]
  },
  {
   "cell_type": "code",
   "execution_count": 1,
   "metadata": {},
   "outputs": [],
   "source": [
    "import hephaistos\n",
    "import numpy as np"
   ]
  },
  {
   "attachments": {},
   "cell_type": "markdown",
   "metadata": {},
   "source": [
    "We start by enumerating all available devices:"
   ]
  },
  {
   "cell_type": "code",
   "execution_count": 2,
   "metadata": {},
   "outputs": [
    {
     "name": "stdout",
     "output_type": "stream",
     "text": [
      "0: NVIDIA GeForce RTX 3060 Ti (discrete)\n"
     ]
    }
   ],
   "source": [
    "assert hephaistos.isVulkanAvailable(), \"Vulkan is not available on your system!\"\n",
    "\n",
    "for i, device in enumerate(hephaistos.enumerateDevices()):\n",
    "    print(f'{i}: {device.name}{\" (discrete)\" if device.isDiscrete else \"\"}')"
   ]
  },
  {
   "attachments": {},
   "cell_type": "markdown",
   "metadata": {},
   "source": [
    "## Copying stuff around\n",
    "\n",
    "Here we show how copying data from and to the gpu works, and how commands can be sequenced.\n",
    "Hephaistos has two major data types: `Buffer`s living on the CPU and `Tensor`s living on the GPU."
   ]
  },
  {
   "cell_type": "code",
   "execution_count": 3,
   "metadata": {},
   "outputs": [],
   "source": [
    "buffer1 = hephaistos.IntBuffer(10)\n",
    "np.copyto(buffer1.numpy(), np.arange(10))"
   ]
  },
  {
   "cell_type": "code",
   "execution_count": 4,
   "metadata": {},
   "outputs": [],
   "source": [
    "tensor = hephaistos.IntTensor(10)\n",
    "buffer2 = hephaistos.IntBuffer(10)"
   ]
  },
  {
   "cell_type": "code",
   "execution_count": 5,
   "metadata": {},
   "outputs": [],
   "source": [
    "timeline = hephaistos.Timeline()\n",
    "copy = hephaistos.beginSequence(timeline) \\\n",
    "    .And(hephaistos.updateTensor(buffer1, tensor)) \\\n",
    "    .Then(hephaistos.retrieveTensor(tensor, buffer2)) \\\n",
    "    .Submit()"
   ]
  },
  {
   "cell_type": "code",
   "execution_count": 6,
   "metadata": {},
   "outputs": [
    {
     "name": "stdout",
     "output_type": "stream",
     "text": [
      "Uploading Data...\n",
      "Fetching Data...\n",
      "Done\n"
     ]
    }
   ],
   "source": [
    "print(\"Uploading Data...\")\n",
    "timeline.wait(1)\n",
    "print(\"Fetching Data...\")\n",
    "timeline.wait(2)\n",
    "print(\"Done\")"
   ]
  },
  {
   "cell_type": "code",
   "execution_count": 7,
   "metadata": {},
   "outputs": [
    {
     "data": {
      "text/plain": [
       "array([0, 1, 2, 3, 4, 5, 6, 7, 8, 9], dtype=int32)"
      ]
     },
     "execution_count": 7,
     "metadata": {},
     "output_type": "execute_result"
    }
   ],
   "source": [
    "buffer2.numpy()"
   ]
  },
  {
   "attachments": {},
   "cell_type": "markdown",
   "metadata": {},
   "source": [
    "## Program / Compute Shader"
   ]
  },
  {
   "cell_type": "code",
   "execution_count": 8,
   "metadata": {},
   "outputs": [],
   "source": [
    "source = \"\"\"\n",
    "#version 460\n",
    "\n",
    "layout(local_size_x = 1) in;\n",
    "\n",
    "layout(binding = 0) readonly buffer tensorA { int in_a[]; };\n",
    "layout(binding = 1) readonly buffer tensorB { int in_b[]; };\n",
    "layout(binding = 2) writeonly buffer tensorOut { int out_c[]; };\n",
    "\n",
    "void main() {\n",
    "    uint idx = gl_GlobalInvocationID.x;\n",
    "    out_c[idx] = in_a[idx] + in_b[idx];\n",
    "}\n",
    "\"\"\"\n",
    "\n",
    "code = hephaistos.compileSource(source)\n",
    "program = hephaistos.Program(code)"
   ]
  },
  {
   "cell_type": "code",
   "execution_count": 9,
   "metadata": {},
   "outputs": [
    {
     "data": {
      "text/plain": [
       "array([ 28,  48,  79,  35, 193, 158,  84,  61,  98,  35], dtype=int32)"
      ]
     },
     "execution_count": 9,
     "metadata": {},
     "output_type": "execute_result"
    }
   ],
   "source": [
    "#reuse a single buffer for staging\n",
    "buffer = hephaistos.IntBuffer(10)\n",
    "buffer.numpy()[:] = [15, 36, 51, 12, 99, 102, 12, 33, 54, 22]\n",
    "\n",
    "tensorA = hephaistos.IntTensor(10)\n",
    "tensorB = hephaistos.IntTensor(10)\n",
    "tensourOut = hephaistos.IntTensor(10)\n",
    "\n",
    "hephaistos.bindParams(program, [tensorA, tensorB, tensourOut])\n",
    "\n",
    "# You could also reuse timeline but than you have to keep track of its value\n",
    "timeline = hephaistos.Timeline()\n",
    "submission = hephaistos.beginSequence(timeline) \\\n",
    "    .And(hephaistos.updateTensor(buffer, tensorA)) \\\n",
    "    .WaitFor(2).And(hephaistos.updateTensor(buffer, tensorB)) \\\n",
    "    .Then(program.dispatch(10)) \\\n",
    "    .Then(hephaistos.retrieveTensor(tensourOut, buffer)) \\\n",
    "    .Submit()\n",
    "\n",
    "timeline.wait(1)\n",
    "buffer.numpy()[:] = [13, 12, 28, 23, 94, 56, 72, 28, 44, 13]\n",
    "timeline.value = 2\n",
    "submission.wait()\n",
    "\n",
    "buffer.numpy()"
   ]
  }
 ],
 "metadata": {
  "kernelspec": {
   "display_name": "Python 3",
   "language": "python",
   "name": "python3"
  },
  "language_info": {
   "codemirror_mode": {
    "name": "ipython",
    "version": 3
   },
   "file_extension": ".py",
   "mimetype": "text/x-python",
   "name": "python",
   "nbconvert_exporter": "python",
   "pygments_lexer": "ipython3",
   "version": "3.9.10"
  },
  "orig_nbformat": 4
 },
 "nbformat": 4,
 "nbformat_minor": 2
}
